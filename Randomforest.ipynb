{
 "cells": [
  {
   "cell_type": "code",
   "execution_count": 6,
   "metadata": {},
   "outputs": [],
   "source": [
    "import pandas as pd\n",
    "import numpy as np\n",
    "import matplotlib.pyplot as ptl\n",
    "import seaborn as sns \n",
    "import warnings"
   ]
  },
  {
   "cell_type": "code",
   "execution_count": 7,
   "metadata": {},
   "outputs": [
    {
     "data": {
      "text/html": [
       "<div>\n",
       "<style scoped>\n",
       "    .dataframe tbody tr th:only-of-type {\n",
       "        vertical-align: middle;\n",
       "    }\n",
       "\n",
       "    .dataframe tbody tr th {\n",
       "        vertical-align: top;\n",
       "    }\n",
       "\n",
       "    .dataframe thead th {\n",
       "        text-align: right;\n",
       "    }\n",
       "</style>\n",
       "<table border=\"1\" class=\"dataframe\">\n",
       "  <thead>\n",
       "    <tr style=\"text-align: right;\">\n",
       "      <th></th>\n",
       "      <th>CustomerID</th>\n",
       "      <th>ProdTaken</th>\n",
       "      <th>Age</th>\n",
       "      <th>TypeofContact</th>\n",
       "      <th>CityTier</th>\n",
       "      <th>DurationOfPitch</th>\n",
       "      <th>Occupation</th>\n",
       "      <th>Gender</th>\n",
       "      <th>NumberOfPersonVisiting</th>\n",
       "      <th>NumberOfFollowups</th>\n",
       "      <th>ProductPitched</th>\n",
       "      <th>PreferredPropertyStar</th>\n",
       "      <th>MaritalStatus</th>\n",
       "      <th>NumberOfTrips</th>\n",
       "      <th>Passport</th>\n",
       "      <th>PitchSatisfactionScore</th>\n",
       "      <th>OwnCar</th>\n",
       "      <th>NumberOfChildrenVisiting</th>\n",
       "      <th>Designation</th>\n",
       "      <th>MonthlyIncome</th>\n",
       "    </tr>\n",
       "  </thead>\n",
       "  <tbody>\n",
       "    <tr>\n",
       "      <th>0</th>\n",
       "      <td>200000</td>\n",
       "      <td>1</td>\n",
       "      <td>41.0</td>\n",
       "      <td>Self Enquiry</td>\n",
       "      <td>3</td>\n",
       "      <td>6.0</td>\n",
       "      <td>Salaried</td>\n",
       "      <td>Female</td>\n",
       "      <td>3</td>\n",
       "      <td>3.0</td>\n",
       "      <td>Deluxe</td>\n",
       "      <td>3.0</td>\n",
       "      <td>Single</td>\n",
       "      <td>1.0</td>\n",
       "      <td>1</td>\n",
       "      <td>2</td>\n",
       "      <td>1</td>\n",
       "      <td>0.0</td>\n",
       "      <td>Manager</td>\n",
       "      <td>20993.0</td>\n",
       "    </tr>\n",
       "    <tr>\n",
       "      <th>1</th>\n",
       "      <td>200001</td>\n",
       "      <td>0</td>\n",
       "      <td>49.0</td>\n",
       "      <td>Company Invited</td>\n",
       "      <td>1</td>\n",
       "      <td>14.0</td>\n",
       "      <td>Salaried</td>\n",
       "      <td>Male</td>\n",
       "      <td>3</td>\n",
       "      <td>4.0</td>\n",
       "      <td>Deluxe</td>\n",
       "      <td>4.0</td>\n",
       "      <td>Divorced</td>\n",
       "      <td>2.0</td>\n",
       "      <td>0</td>\n",
       "      <td>3</td>\n",
       "      <td>1</td>\n",
       "      <td>2.0</td>\n",
       "      <td>Manager</td>\n",
       "      <td>20130.0</td>\n",
       "    </tr>\n",
       "    <tr>\n",
       "      <th>2</th>\n",
       "      <td>200002</td>\n",
       "      <td>1</td>\n",
       "      <td>37.0</td>\n",
       "      <td>Self Enquiry</td>\n",
       "      <td>1</td>\n",
       "      <td>8.0</td>\n",
       "      <td>Free Lancer</td>\n",
       "      <td>Male</td>\n",
       "      <td>3</td>\n",
       "      <td>4.0</td>\n",
       "      <td>Basic</td>\n",
       "      <td>3.0</td>\n",
       "      <td>Single</td>\n",
       "      <td>7.0</td>\n",
       "      <td>1</td>\n",
       "      <td>3</td>\n",
       "      <td>0</td>\n",
       "      <td>0.0</td>\n",
       "      <td>Executive</td>\n",
       "      <td>17090.0</td>\n",
       "    </tr>\n",
       "  </tbody>\n",
       "</table>\n",
       "</div>"
      ],
      "text/plain": [
       "   CustomerID  ProdTaken   Age    TypeofContact  CityTier  DurationOfPitch  \\\n",
       "0      200000          1  41.0     Self Enquiry         3              6.0   \n",
       "1      200001          0  49.0  Company Invited         1             14.0   \n",
       "2      200002          1  37.0     Self Enquiry         1              8.0   \n",
       "\n",
       "    Occupation  Gender  NumberOfPersonVisiting  NumberOfFollowups  \\\n",
       "0     Salaried  Female                       3                3.0   \n",
       "1     Salaried    Male                       3                4.0   \n",
       "2  Free Lancer    Male                       3                4.0   \n",
       "\n",
       "  ProductPitched  PreferredPropertyStar MaritalStatus  NumberOfTrips  \\\n",
       "0         Deluxe                    3.0        Single            1.0   \n",
       "1         Deluxe                    4.0      Divorced            2.0   \n",
       "2          Basic                    3.0        Single            7.0   \n",
       "\n",
       "   Passport  PitchSatisfactionScore  OwnCar  NumberOfChildrenVisiting  \\\n",
       "0         1                       2       1                       0.0   \n",
       "1         0                       3       1                       2.0   \n",
       "2         1                       3       0                       0.0   \n",
       "\n",
       "  Designation  MonthlyIncome  \n",
       "0     Manager        20993.0  \n",
       "1     Manager        20130.0  \n",
       "2   Executive        17090.0  "
      ]
     },
     "execution_count": 7,
     "metadata": {},
     "output_type": "execute_result"
    }
   ],
   "source": [
    "df = pd.read_csv(\"Travel.csv\")\n",
    "df.head(3)"
   ]
  },
  {
   "cell_type": "code",
   "execution_count": 8,
   "metadata": {},
   "outputs": [
    {
     "name": "stdout",
     "output_type": "stream",
     "text": [
      "<class 'pandas.core.frame.DataFrame'>\n",
      "RangeIndex: 4888 entries, 0 to 4887\n",
      "Data columns (total 20 columns):\n",
      " #   Column                    Non-Null Count  Dtype  \n",
      "---  ------                    --------------  -----  \n",
      " 0   CustomerID                4888 non-null   int64  \n",
      " 1   ProdTaken                 4888 non-null   int64  \n",
      " 2   Age                       4662 non-null   float64\n",
      " 3   TypeofContact             4863 non-null   object \n",
      " 4   CityTier                  4888 non-null   int64  \n",
      " 5   DurationOfPitch           4637 non-null   float64\n",
      " 6   Occupation                4888 non-null   object \n",
      " 7   Gender                    4888 non-null   object \n",
      " 8   NumberOfPersonVisiting    4888 non-null   int64  \n",
      " 9   NumberOfFollowups         4843 non-null   float64\n",
      " 10  ProductPitched            4888 non-null   object \n",
      " 11  PreferredPropertyStar     4862 non-null   float64\n",
      " 12  MaritalStatus             4888 non-null   object \n",
      " 13  NumberOfTrips             4748 non-null   float64\n",
      " 14  Passport                  4888 non-null   int64  \n",
      " 15  PitchSatisfactionScore    4888 non-null   int64  \n",
      " 16  OwnCar                    4888 non-null   int64  \n",
      " 17  NumberOfChildrenVisiting  4822 non-null   float64\n",
      " 18  Designation               4888 non-null   object \n",
      " 19  MonthlyIncome             4655 non-null   float64\n",
      "dtypes: float64(7), int64(7), object(6)\n",
      "memory usage: 763.9+ KB\n"
     ]
    }
   ],
   "source": [
    "df.info()"
   ]
  },
  {
   "cell_type": "code",
   "execution_count": 9,
   "metadata": {},
   "outputs": [
    {
     "data": {
      "text/plain": [
       "CustomerID                    0\n",
       "ProdTaken                     0\n",
       "Age                         226\n",
       "TypeofContact                25\n",
       "CityTier                      0\n",
       "DurationOfPitch             251\n",
       "Occupation                    0\n",
       "Gender                        0\n",
       "NumberOfPersonVisiting        0\n",
       "NumberOfFollowups            45\n",
       "ProductPitched                0\n",
       "PreferredPropertyStar        26\n",
       "MaritalStatus                 0\n",
       "NumberOfTrips               140\n",
       "Passport                      0\n",
       "PitchSatisfactionScore        0\n",
       "OwnCar                        0\n",
       "NumberOfChildrenVisiting     66\n",
       "Designation                   0\n",
       "MonthlyIncome               233\n",
       "dtype: int64"
      ]
     },
     "execution_count": 9,
     "metadata": {},
     "output_type": "execute_result"
    }
   ],
   "source": [
    "# Checking for the missing values\n",
    "df.isna().sum()"
   ]
  },
  {
   "cell_type": "code",
   "execution_count": 11,
   "metadata": {},
   "outputs": [
    {
     "data": {
      "text/plain": [
       "TypeofContact\n",
       "Self Enquiry       3444\n",
       "Company Invited    1419\n",
       "Name: count, dtype: int64"
      ]
     },
     "execution_count": 11,
     "metadata": {},
     "output_type": "execute_result"
    }
   ],
   "source": [
    "# Checking the Catagorical Features in the dataset\n",
    "df['TypeofContact'].value_counts()"
   ]
  },
  {
   "cell_type": "code",
   "execution_count": 12,
   "metadata": {},
   "outputs": [
    {
     "data": {
      "text/plain": [
       "Gender\n",
       "Male       2916\n",
       "Female     1817\n",
       "Fe Male     155\n",
       "Name: count, dtype: int64"
      ]
     },
     "execution_count": 12,
     "metadata": {},
     "output_type": "execute_result"
    }
   ],
   "source": [
    "df['Gender'].value_counts()\n",
    "# Here Female and Fe male are Basically the same catagorey it's just a spelling mistake so will be merging both of them "
   ]
  },
  {
   "cell_type": "code",
   "execution_count": 16,
   "metadata": {},
   "outputs": [],
   "source": [
    "df['Gender'] = df['Gender'].replace('Fe Male' , 'Female')"
   ]
  },
  {
   "cell_type": "code",
   "execution_count": 17,
   "metadata": {},
   "outputs": [
    {
     "data": {
      "text/plain": [
       "Gender\n",
       "Male      2916\n",
       "Female    1972\n",
       "Name: count, dtype: int64"
      ]
     },
     "execution_count": 17,
     "metadata": {},
     "output_type": "execute_result"
    }
   ],
   "source": [
    "df['Gender'].value_counts()\n",
    "# now we have the actual counts of the given values"
   ]
  },
  {
   "cell_type": "code",
   "execution_count": 14,
   "metadata": {},
   "outputs": [
    {
     "data": {
      "text/plain": [
       "Occupation\n",
       "Salaried          2368\n",
       "Small Business    2084\n",
       "Large Business     434\n",
       "Free Lancer          2\n",
       "Name: count, dtype: int64"
      ]
     },
     "execution_count": 14,
     "metadata": {},
     "output_type": "execute_result"
    }
   ],
   "source": [
    "df['Occupation'].value_counts()"
   ]
  },
  {
   "cell_type": "code",
   "execution_count": 15,
   "metadata": {},
   "outputs": [
    {
     "data": {
      "text/plain": [
       "MaritalStatus\n",
       "Married      2340\n",
       "Divorced      950\n",
       "Single        916\n",
       "Unmarried     682\n",
       "Name: count, dtype: int64"
      ]
     },
     "execution_count": 15,
     "metadata": {},
     "output_type": "execute_result"
    }
   ],
   "source": [
    "df['MaritalStatus'].value_counts()\n",
    "# here the Catagoery Single and Unmaaried are the same so we can merge that too"
   ]
  },
  {
   "cell_type": "code",
   "execution_count": 19,
   "metadata": {},
   "outputs": [
    {
     "data": {
      "text/plain": [
       "MaritalStatus\n",
       "Married     2340\n",
       "Single      1598\n",
       "Divorced     950\n",
       "Name: count, dtype: int64"
      ]
     },
     "execution_count": 19,
     "metadata": {},
     "output_type": "execute_result"
    }
   ],
   "source": [
    "df['MaritalStatus'] = df['MaritalStatus'].replace('Unmarried' , 'Single')\n",
    "df['MaritalStatus'].value_counts()"
   ]
  },
  {
   "cell_type": "code",
   "execution_count": 29,
   "metadata": {},
   "outputs": [
    {
     "data": {
      "text/plain": [
       "NumberOfChildrenVisiting\n",
       "1.0    2080\n",
       "2.0    1335\n",
       "0.0    1082\n",
       "3.0     325\n",
       "Name: count, dtype: int64"
      ]
     },
     "execution_count": 29,
     "metadata": {},
     "output_type": "execute_result"
    }
   ],
   "source": [
    "df['NumberOfChildrenVisiting'].value_counts()"
   ]
  },
  {
   "cell_type": "code",
   "execution_count": 28,
   "metadata": {},
   "outputs": [
    {
     "name": "stdout",
     "output_type": "stream",
     "text": [
      "['Age', 'TypeofContact', 'DurationOfPitch', 'NumberOfFollowups', 'PreferredPropertyStar', 'NumberOfTrips', 'NumberOfChildrenVisiting', 'MonthlyIncome']\n",
      "Age 4.62357 % Missing Values \n",
      "TypeofContact 0.51146 % Missing Values \n",
      "DurationOfPitch 5.13502 % Missing Values \n",
      "NumberOfFollowups 0.92062 % Missing Values \n",
      "PreferredPropertyStar 0.53191 % Missing Values \n",
      "NumberOfTrips 2.86416 % Missing Values \n",
      "NumberOfChildrenVisiting 1.35025 % Missing Values \n",
      "MonthlyIncome 4.76678 % Missing Values \n"
     ]
    }
   ],
   "source": [
    "# checking the missing values \n",
    "features_with_na = [features for features in df.columns if df[features].isnull().sum()>=1]\n",
    "print(features_with_na)\n",
    "for feature in features_with_na :\n",
    "    print(feature , np.round(df[feature].isnull().mean()*100,5),'% Missing Values ')"
   ]
  },
  {
   "cell_type": "code",
   "execution_count": 25,
   "metadata": {},
   "outputs": [
    {
     "data": {
      "text/html": [
       "<div>\n",
       "<style scoped>\n",
       "    .dataframe tbody tr th:only-of-type {\n",
       "        vertical-align: middle;\n",
       "    }\n",
       "\n",
       "    .dataframe tbody tr th {\n",
       "        vertical-align: top;\n",
       "    }\n",
       "\n",
       "    .dataframe thead th {\n",
       "        text-align: right;\n",
       "    }\n",
       "</style>\n",
       "<table border=\"1\" class=\"dataframe\">\n",
       "  <thead>\n",
       "    <tr style=\"text-align: right;\">\n",
       "      <th></th>\n",
       "      <th>Age</th>\n",
       "      <th>DurationOfPitch</th>\n",
       "      <th>NumberOfFollowups</th>\n",
       "      <th>PreferredPropertyStar</th>\n",
       "      <th>NumberOfTrips</th>\n",
       "      <th>NumberOfChildrenVisiting</th>\n",
       "      <th>MonthlyIncome</th>\n",
       "    </tr>\n",
       "  </thead>\n",
       "  <tbody>\n",
       "    <tr>\n",
       "      <th>count</th>\n",
       "      <td>4662.000000</td>\n",
       "      <td>4637.000000</td>\n",
       "      <td>4843.000000</td>\n",
       "      <td>4862.000000</td>\n",
       "      <td>4748.000000</td>\n",
       "      <td>4822.000000</td>\n",
       "      <td>4655.000000</td>\n",
       "    </tr>\n",
       "    <tr>\n",
       "      <th>mean</th>\n",
       "      <td>37.622265</td>\n",
       "      <td>15.490835</td>\n",
       "      <td>3.708445</td>\n",
       "      <td>3.581037</td>\n",
       "      <td>3.236521</td>\n",
       "      <td>1.187267</td>\n",
       "      <td>23619.853491</td>\n",
       "    </tr>\n",
       "    <tr>\n",
       "      <th>std</th>\n",
       "      <td>9.316387</td>\n",
       "      <td>8.519643</td>\n",
       "      <td>1.002509</td>\n",
       "      <td>0.798009</td>\n",
       "      <td>1.849019</td>\n",
       "      <td>0.857861</td>\n",
       "      <td>5380.698361</td>\n",
       "    </tr>\n",
       "    <tr>\n",
       "      <th>min</th>\n",
       "      <td>18.000000</td>\n",
       "      <td>5.000000</td>\n",
       "      <td>1.000000</td>\n",
       "      <td>3.000000</td>\n",
       "      <td>1.000000</td>\n",
       "      <td>0.000000</td>\n",
       "      <td>1000.000000</td>\n",
       "    </tr>\n",
       "    <tr>\n",
       "      <th>25%</th>\n",
       "      <td>31.000000</td>\n",
       "      <td>9.000000</td>\n",
       "      <td>3.000000</td>\n",
       "      <td>3.000000</td>\n",
       "      <td>2.000000</td>\n",
       "      <td>1.000000</td>\n",
       "      <td>20346.000000</td>\n",
       "    </tr>\n",
       "    <tr>\n",
       "      <th>50%</th>\n",
       "      <td>36.000000</td>\n",
       "      <td>13.000000</td>\n",
       "      <td>4.000000</td>\n",
       "      <td>3.000000</td>\n",
       "      <td>3.000000</td>\n",
       "      <td>1.000000</td>\n",
       "      <td>22347.000000</td>\n",
       "    </tr>\n",
       "    <tr>\n",
       "      <th>75%</th>\n",
       "      <td>44.000000</td>\n",
       "      <td>20.000000</td>\n",
       "      <td>4.000000</td>\n",
       "      <td>4.000000</td>\n",
       "      <td>4.000000</td>\n",
       "      <td>2.000000</td>\n",
       "      <td>25571.000000</td>\n",
       "    </tr>\n",
       "    <tr>\n",
       "      <th>max</th>\n",
       "      <td>61.000000</td>\n",
       "      <td>127.000000</td>\n",
       "      <td>6.000000</td>\n",
       "      <td>5.000000</td>\n",
       "      <td>22.000000</td>\n",
       "      <td>3.000000</td>\n",
       "      <td>98678.000000</td>\n",
       "    </tr>\n",
       "  </tbody>\n",
       "</table>\n",
       "</div>"
      ],
      "text/plain": [
       "               Age  DurationOfPitch  NumberOfFollowups  PreferredPropertyStar  \\\n",
       "count  4662.000000      4637.000000        4843.000000            4862.000000   \n",
       "mean     37.622265        15.490835           3.708445               3.581037   \n",
       "std       9.316387         8.519643           1.002509               0.798009   \n",
       "min      18.000000         5.000000           1.000000               3.000000   \n",
       "25%      31.000000         9.000000           3.000000               3.000000   \n",
       "50%      36.000000        13.000000           4.000000               3.000000   \n",
       "75%      44.000000        20.000000           4.000000               4.000000   \n",
       "max      61.000000       127.000000           6.000000               5.000000   \n",
       "\n",
       "       NumberOfTrips  NumberOfChildrenVisiting  MonthlyIncome  \n",
       "count    4748.000000               4822.000000    4655.000000  \n",
       "mean        3.236521                  1.187267   23619.853491  \n",
       "std         1.849019                  0.857861    5380.698361  \n",
       "min         1.000000                  0.000000    1000.000000  \n",
       "25%         2.000000                  1.000000   20346.000000  \n",
       "50%         3.000000                  1.000000   22347.000000  \n",
       "75%         4.000000                  2.000000   25571.000000  \n",
       "max        22.000000                  3.000000   98678.000000  "
      ]
     },
     "execution_count": 25,
     "metadata": {},
     "output_type": "execute_result"
    }
   ],
   "source": [
    "df[features_with_na].select_dtypes(exclude='object').describe()"
   ]
  },
  {
   "cell_type": "code",
   "execution_count": 36,
   "metadata": {},
   "outputs": [
    {
     "name": "stderr",
     "output_type": "stream",
     "text": [
      "C:\\Users\\reply\\AppData\\Local\\Temp\\ipykernel_15632\\2322385304.py:3: FutureWarning: A value is trying to be set on a copy of a DataFrame or Series through chained assignment using an inplace method.\n",
      "The behavior will change in pandas 3.0. This inplace method will never work because the intermediate object on which we are setting values always behaves as a copy.\n",
      "\n",
      "For example, when doing 'df[col].method(value, inplace=True)', try using 'df.method({col: value}, inplace=True)' or df[col] = df[col].method(value) instead, to perform the operation inplace on the original object.\n",
      "\n",
      "\n",
      "  df.Age.fillna(df.Age.median() , inplace= True)\n",
      "C:\\Users\\reply\\AppData\\Local\\Temp\\ipykernel_15632\\2322385304.py:5: FutureWarning: A value is trying to be set on a copy of a DataFrame or Series through chained assignment using an inplace method.\n",
      "The behavior will change in pandas 3.0. This inplace method will never work because the intermediate object on which we are setting values always behaves as a copy.\n",
      "\n",
      "For example, when doing 'df[col].method(value, inplace=True)', try using 'df.method({col: value}, inplace=True)' or df[col] = df[col].method(value) instead, to perform the operation inplace on the original object.\n",
      "\n",
      "\n",
      "  df.DurationOfPitch.fillna(df.DurationOfPitch.median(), inplace= True)\n",
      "C:\\Users\\reply\\AppData\\Local\\Temp\\ipykernel_15632\\2322385304.py:6: FutureWarning: A value is trying to be set on a copy of a DataFrame or Series through chained assignment using an inplace method.\n",
      "The behavior will change in pandas 3.0. This inplace method will never work because the intermediate object on which we are setting values always behaves as a copy.\n",
      "\n",
      "For example, when doing 'df[col].method(value, inplace=True)', try using 'df.method({col: value}, inplace=True)' or df[col] = df[col].method(value) instead, to perform the operation inplace on the original object.\n",
      "\n",
      "\n",
      "  df.NumberOfFollowups.fillna(df.NumberOfFollowups.mode()[0] , inplace= True)\n",
      "C:\\Users\\reply\\AppData\\Local\\Temp\\ipykernel_15632\\2322385304.py:7: FutureWarning: A value is trying to be set on a copy of a DataFrame or Series through chained assignment using an inplace method.\n",
      "The behavior will change in pandas 3.0. This inplace method will never work because the intermediate object on which we are setting values always behaves as a copy.\n",
      "\n",
      "For example, when doing 'df[col].method(value, inplace=True)', try using 'df.method({col: value}, inplace=True)' or df[col] = df[col].method(value) instead, to perform the operation inplace on the original object.\n",
      "\n",
      "\n",
      "  df.PreferredPropertyStar.fillna(df.PreferredPropertyStar.mode()[0] , inplace= True)\n",
      "C:\\Users\\reply\\AppData\\Local\\Temp\\ipykernel_15632\\2322385304.py:8: FutureWarning: A value is trying to be set on a copy of a DataFrame or Series through chained assignment using an inplace method.\n",
      "The behavior will change in pandas 3.0. This inplace method will never work because the intermediate object on which we are setting values always behaves as a copy.\n",
      "\n",
      "For example, when doing 'df[col].method(value, inplace=True)', try using 'df.method({col: value}, inplace=True)' or df[col] = df[col].method(value) instead, to perform the operation inplace on the original object.\n",
      "\n",
      "\n",
      "  df.NumberOfTrips.fillna(df.NumberOfTrips.median() , inplace= True)\n",
      "C:\\Users\\reply\\AppData\\Local\\Temp\\ipykernel_15632\\2322385304.py:9: FutureWarning: A value is trying to be set on a copy of a DataFrame or Series through chained assignment using an inplace method.\n",
      "The behavior will change in pandas 3.0. This inplace method will never work because the intermediate object on which we are setting values always behaves as a copy.\n",
      "\n",
      "For example, when doing 'df[col].method(value, inplace=True)', try using 'df.method({col: value}, inplace=True)' or df[col] = df[col].method(value) instead, to perform the operation inplace on the original object.\n",
      "\n",
      "\n",
      "  df.NumberOfChildrenVisiting.fillna(df.NumberOfChildrenVisiting.mode()[0],inplace= True )\n",
      "C:\\Users\\reply\\AppData\\Local\\Temp\\ipykernel_15632\\2322385304.py:10: FutureWarning: A value is trying to be set on a copy of a DataFrame or Series through chained assignment using an inplace method.\n",
      "The behavior will change in pandas 3.0. This inplace method will never work because the intermediate object on which we are setting values always behaves as a copy.\n",
      "\n",
      "For example, when doing 'df[col].method(value, inplace=True)', try using 'df.method({col: value}, inplace=True)' or df[col] = df[col].method(value) instead, to perform the operation inplace on the original object.\n",
      "\n",
      "\n",
      "  df.MonthlyIncome.fillna(df.MonthlyIncome.median() , inplace=True)\n"
     ]
    }
   ],
   "source": [
    " # Impiting the missing values \n",
    "\n",
    "df.Age.fillna(df.Age.median() , inplace= True)\n",
    "df.TypeofContact.fillna(df.TypeofContact.mode()[0] , inplace= True)\n",
    "df.DurationOfPitch.fillna(df.DurationOfPitch.median(), inplace= True)\n",
    "df.NumberOfFollowups.fillna(df.NumberOfFollowups.mode()[0] , inplace= True)\n",
    "df.PreferredPropertyStar.fillna(df.PreferredPropertyStar.mode()[0] , inplace= True)\n",
    "df.NumberOfTrips.fillna(df.NumberOfTrips.median() , inplace= True)\n",
    "df.NumberOfChildrenVisiting.fillna(df.NumberOfChildrenVisiting.mode()[0],inplace= True )\n",
    "df.MonthlyIncome.fillna(df.MonthlyIncome.median() , inplace=True)\n",
    "\n"
   ]
  },
  {
   "cell_type": "code",
   "execution_count": 37,
   "metadata": {},
   "outputs": [
    {
     "data": {
      "text/plain": [
       "CustomerID                  0\n",
       "ProdTaken                   0\n",
       "Age                         0\n",
       "TypeofContact               0\n",
       "CityTier                    0\n",
       "DurationOfPitch             0\n",
       "Occupation                  0\n",
       "Gender                      0\n",
       "NumberOfPersonVisiting      0\n",
       "NumberOfFollowups           0\n",
       "ProductPitched              0\n",
       "PreferredPropertyStar       0\n",
       "MaritalStatus               0\n",
       "NumberOfTrips               0\n",
       "Passport                    0\n",
       "PitchSatisfactionScore      0\n",
       "OwnCar                      0\n",
       "NumberOfChildrenVisiting    0\n",
       "Designation                 0\n",
       "MonthlyIncome               0\n",
       "dtype: int64"
      ]
     },
     "execution_count": 37,
     "metadata": {},
     "output_type": "execute_result"
    }
   ],
   "source": [
    "# Again Checking for the null Values\n",
    "df.isna().sum()"
   ]
  },
  {
   "cell_type": "markdown",
   "metadata": {},
   "source": [
    "The Data Set Had a lot of missing Values which has been removed and the data is now good to go"
   ]
  },
  {
   "cell_type": "code",
   "execution_count": 38,
   "metadata": {},
   "outputs": [],
   "source": [
    "df.drop('CustomerID' , inplace= True , axis= 1)"
   ]
  },
  {
   "cell_type": "markdown",
   "metadata": {},
   "source": [
    "# Feature Engerring for the Given DataSet"
   ]
  },
  {
   "cell_type": "code",
   "execution_count": 39,
   "metadata": {},
   "outputs": [],
   "source": [
    "X = df.drop('ProdTaken' , axis= 1)\n",
    "Y = df['ProdTaken']"
   ]
  },
  {
   "cell_type": "code",
   "execution_count": 40,
   "metadata": {},
   "outputs": [],
   "source": [
    "# We will be Using Column Trasnformer for Doing the Feature Eng But before Hand we Need to split our data in Train and test Split\n",
    "from sklearn.model_selection import train_test_split \n",
    "X_train , X_test , Y_train , Y_test = train_test_split(X , Y , test_size= 0.3)"
   ]
  },
  {
   "cell_type": "code",
   "execution_count": 43,
   "metadata": {},
   "outputs": [
    {
     "data": {
      "text/plain": [
       "((3421, 18), (1467, 18), (3421,))"
      ]
     },
     "execution_count": 43,
     "metadata": {},
     "output_type": "execute_result"
    }
   ],
   "source": [
    "X_train.shape , X_test.shape , Y_train.shape"
   ]
  },
  {
   "cell_type": "code",
   "execution_count": 45,
   "metadata": {},
   "outputs": [
    {
     "name": "stdout",
     "output_type": "stream",
     "text": [
      "Index(['TypeofContact', 'Occupation', 'Gender', 'ProductPitched',\n",
      "       'MaritalStatus', 'Designation'],\n",
      "      dtype='object') Index(['Age', 'CityTier', 'DurationOfPitch', 'NumberOfPersonVisiting',\n",
      "       'NumberOfFollowups', 'PreferredPropertyStar', 'NumberOfTrips',\n",
      "       'Passport', 'PitchSatisfactionScore', 'OwnCar',\n",
      "       'NumberOfChildrenVisiting', 'MonthlyIncome'],\n",
      "      dtype='object')\n"
     ]
    }
   ],
   "source": [
    "# We will be spliting the Data into numerical and catagorical features\n",
    "cat_features = X.select_dtypes(include='object').columns\n",
    "num_features = X.select_dtypes(exclude='object').columns\n",
    "print(cat_features , num_features)"
   ]
  },
  {
   "cell_type": "code",
   "execution_count": 46,
   "metadata": {},
   "outputs": [],
   "source": [
    "# Now we will do feature Encoding Using Column Transformer\n",
    "from sklearn.compose import ColumnTransformer\n",
    "from sklearn.preprocessing import OneHotEncoder , StandardScaler \n",
    "oh = OneHotEncoder()\n",
    "num_trf = StandardScaler()\n",
    "column = ColumnTransformer( \n",
    "    [\n",
    "        (\"OneHotEncoder\" , oh , cat_features),\n",
    "        (\"Standard Scaler\" , num_trf , num_features)\n",
    "    ]\n",
    ")\n"
   ]
  },
  {
   "cell_type": "code",
   "execution_count": 47,
   "metadata": {},
   "outputs": [],
   "source": [
    "X_train = column.fit_transform(X_train)\n",
    "X_test = column.transform(X_test)"
   ]
  },
  {
   "cell_type": "markdown",
   "metadata": {},
   "source": [
    "Now from Here on we will be Seeing New Way of Implementing the machine Learning Technique that is a Vey Generic and Industry approved Way of Using Machine Learning Algorithims"
   ]
  },
  {
   "cell_type": "markdown",
   "metadata": {},
   "source": [
    "# RandomForest Classifier "
   ]
  },
  {
   "cell_type": "code",
   "execution_count": 49,
   "metadata": {},
   "outputs": [],
   "source": [
    "# importing the modules \n",
    "from sklearn.ensemble import RandomForestClassifier\n",
    "from sklearn.metrics import accuracy_score , classification_report , confusion_matrix , precision_score, roc_auc_score , f1_score , recall_score"
   ]
  },
  {
   "cell_type": "code",
   "execution_count": 51,
   "metadata": {},
   "outputs": [
    {
     "name": "stdout",
     "output_type": "stream",
     "text": [
      "\n",
      "Training Results:\n",
      "  - Accuracy        : 1.0000\n",
      "  - F1 Score        : 1.0000\n",
      "  - Precision       : 1.0000\n",
      "  - Classification Report:\n",
      "              precision    recall  f1-score   support\n",
      "\n",
      "           0       1.00      1.00      1.00      2775\n",
      "           1       1.00      1.00      1.00       646\n",
      "\n",
      "    accuracy                           1.00      3421\n",
      "   macro avg       1.00      1.00      1.00      3421\n",
      "weighted avg       1.00      1.00      1.00      3421\n",
      "\n",
      "\n",
      "Testing Results:\n",
      "  - Accuracy        : 0.9148\n",
      "  - F1 Score        : 0.7204\n",
      "  - Precision       : 0.9306\n",
      "  - Classification Report:\n",
      "              precision    recall  f1-score   support\n",
      "\n",
      "           0       0.91      0.99      0.95      1193\n",
      "           1       0.93      0.59      0.72       274\n",
      "\n",
      "    accuracy                           0.91      1467\n",
      "   macro avg       0.92      0.79      0.84      1467\n",
      "weighted avg       0.92      0.91      0.91      1467\n",
      "\n",
      "----------------------------------------\n"
     ]
    }
   ],
   "source": [
    "# We make a dictinoary of the model that we want to give for the purpose of our data traning and testing \n",
    "models = {\n",
    "    'Random Forest' : RandomForestClassifier()\n",
    "} \n",
    "for i in range (len(list(models))) :\n",
    "    model = list(models.values())[i]\n",
    "    model.fit(X_train ,Y_train) # traning the model \n",
    "\n",
    "    # make Predections\n",
    "    Y_preds_train = model.predict(X_train) \n",
    "    Y_preds = model.predict(X_test)\n",
    "\n",
    "    # Testing the performance on the train dataset \n",
    "    model_train_accuracy = accuracy_score(Y_train , Y_preds_train)\n",
    "    model_train_classify = classification_report(Y_train , Y_preds_train)\n",
    "    model_train_f1 = f1_score(Y_train , Y_preds_train)\n",
    "    model_train_precison = precision_score(Y_train , Y_preds_train)\n",
    "\n",
    "\n",
    "    # testing the performance on the test dataset \n",
    "    model_test_accuracy = accuracy_score(Y_test , Y_preds)\n",
    "    model_test_classify = classification_report(Y_test , Y_preds)\n",
    "    model_test_f1 = f1_score(Y_test , Y_preds)\n",
    "    model_test_precison = precision_score(Y_test , Y_preds)\n",
    "\n",
    "    print(f\"\\nTraining Results:\")\n",
    "    print(f\"  - Accuracy        : {model_train_accuracy:.4f}\")\n",
    "    print(f\"  - F1 Score        : {model_train_f1:.4f}\")\n",
    "    print(f\"  - Precision       : {model_train_precison:.4f}\")\n",
    "    print(f\"  - Classification Report:\\n{model_train_classify}\")\n",
    "    \n",
    "    print(f\"\\nTesting Results:\")\n",
    "    print(f\"  - Accuracy        : {model_test_accuracy:.4f}\")\n",
    "    print(f\"  - F1 Score        : {model_test_f1:.4f}\")\n",
    "    print(f\"  - Precision       : {model_test_precison:.4f}\")\n",
    "    print(f\"  - Classification Report:\\n{model_test_classify}\")\n",
    "    print(\"-\" * 40)  # Divider for clarity between models\n",
    "\n"
   ]
  },
  {
   "cell_type": "markdown",
   "metadata": {},
   "source": [
    "After trying it wiht random forest we can add other Machine learning models too and check the result for each one of them \n",
    "\n"
   ]
  },
  {
   "cell_type": "code",
   "execution_count": 53,
   "metadata": {},
   "outputs": [
    {
     "name": "stdout",
     "output_type": "stream",
     "text": [
      "\n",
      "Training Results:\n",
      "  - Accuracy        : 0.8483\n",
      "  - F1 Score        : 0.4425\n",
      "  - Precision       : 0.7228\n",
      "  - Classification Report:\n",
      "              precision    recall  f1-score   support\n",
      "\n",
      "           0       0.86      0.97      0.91      2775\n",
      "           1       0.72      0.32      0.44       646\n",
      "\n",
      "    accuracy                           0.85      3421\n",
      "   macro avg       0.79      0.65      0.68      3421\n",
      "weighted avg       0.83      0.85      0.82      3421\n",
      "\n",
      "\n",
      "Testing Results:\n",
      "  - Accuracy        : 0.8412\n",
      "  - F1 Score        : 0.4101\n",
      "  - Precision       : 0.6694\n",
      "  - Classification Report:\n",
      "              precision    recall  f1-score   support\n",
      "\n",
      "           0       0.86      0.97      0.91      1193\n",
      "           1       0.67      0.30      0.41       274\n",
      "\n",
      "    accuracy                           0.84      1467\n",
      "   macro avg       0.76      0.63      0.66      1467\n",
      "weighted avg       0.82      0.84      0.82      1467\n",
      "\n",
      "----------------------------------------\n",
      "\n",
      "Training Results:\n",
      "  - Accuracy        : 1.0000\n",
      "  - F1 Score        : 1.0000\n",
      "  - Precision       : 1.0000\n",
      "  - Classification Report:\n",
      "              precision    recall  f1-score   support\n",
      "\n",
      "           0       1.00      1.00      1.00      2775\n",
      "           1       1.00      1.00      1.00       646\n",
      "\n",
      "    accuracy                           1.00      3421\n",
      "   macro avg       1.00      1.00      1.00      3421\n",
      "weighted avg       1.00      1.00      1.00      3421\n",
      "\n",
      "\n",
      "Testing Results:\n",
      "  - Accuracy        : 0.9107\n",
      "  - F1 Score        : 0.7673\n",
      "  - Precision       : 0.7474\n",
      "  - Classification Report:\n",
      "              precision    recall  f1-score   support\n",
      "\n",
      "           0       0.95      0.94      0.94      1193\n",
      "           1       0.75      0.79      0.77       274\n",
      "\n",
      "    accuracy                           0.91      1467\n",
      "   macro avg       0.85      0.86      0.86      1467\n",
      "weighted avg       0.91      0.91      0.91      1467\n",
      "\n",
      "----------------------------------------\n",
      "\n",
      "Training Results:\n",
      "  - Accuracy        : 1.0000\n",
      "  - F1 Score        : 1.0000\n",
      "  - Precision       : 1.0000\n",
      "  - Classification Report:\n",
      "              precision    recall  f1-score   support\n",
      "\n",
      "           0       1.00      1.00      1.00      2775\n",
      "           1       1.00      1.00      1.00       646\n",
      "\n",
      "    accuracy                           1.00      3421\n",
      "   macro avg       1.00      1.00      1.00      3421\n",
      "weighted avg       1.00      1.00      1.00      3421\n",
      "\n",
      "\n",
      "Testing Results:\n",
      "  - Accuracy        : 0.9148\n",
      "  - F1 Score        : 0.7253\n",
      "  - Precision       : 0.9116\n",
      "  - Classification Report:\n",
      "              precision    recall  f1-score   support\n",
      "\n",
      "           0       0.92      0.99      0.95      1193\n",
      "           1       0.91      0.60      0.73       274\n",
      "\n",
      "    accuracy                           0.91      1467\n",
      "   macro avg       0.91      0.79      0.84      1467\n",
      "weighted avg       0.91      0.91      0.91      1467\n",
      "\n",
      "----------------------------------------\n"
     ]
    }
   ],
   "source": [
    "# We make a dictinoary of the model that we want to give for the purpose of our data traning and testing\n",
    "from sklearn.tree import DecisionTreeClassifier \n",
    "from sklearn.linear_model import LogisticRegression\n",
    "models = {\n",
    "    # adding more Machine Learning models\n",
    "    'Logstic Regression' : LogisticRegression(),\n",
    "    'Decision Tres' : DecisionTreeClassifier(),\n",
    "    'Random Forest' : RandomForestClassifier()\n",
    "} \n",
    "for i in range (len(list(models))) :\n",
    "    model = list(models.values())[i]\n",
    "    model.fit(X_train ,Y_train) # traning the model \n",
    "\n",
    "    # make Predections\n",
    "    Y_preds_train = model.predict(X_train) \n",
    "    Y_preds = model.predict(X_test)\n",
    "\n",
    "    # Testing the performance on the train dataset \n",
    "    model_train_accuracy = accuracy_score(Y_train , Y_preds_train)\n",
    "    model_train_classify = classification_report(Y_train , Y_preds_train)\n",
    "    model_train_f1 = f1_score(Y_train , Y_preds_train)\n",
    "    model_train_precison = precision_score(Y_train , Y_preds_train)\n",
    "\n",
    "\n",
    "    # testing the performance on the test dataset \n",
    "    model_test_accuracy = accuracy_score(Y_test , Y_preds)\n",
    "    model_test_classify = classification_report(Y_test , Y_preds)\n",
    "    model_test_f1 = f1_score(Y_test , Y_preds)\n",
    "    model_test_precison = precision_score(Y_test , Y_preds)\n",
    "\n",
    "    print(f\"\\nTraining Results:\")\n",
    "    print(f\"  - Accuracy        : {model_train_accuracy:.4f}\")\n",
    "    print(f\"  - F1 Score        : {model_train_f1:.4f}\")\n",
    "    print(f\"  - Precision       : {model_train_precison:.4f}\")\n",
    "    print(f\"  - Classification Report:\\n{model_train_classify}\")\n",
    "    \n",
    "    print(f\"\\nTesting Results:\")\n",
    "    print(f\"  - Accuracy        : {model_test_accuracy:.4f}\")\n",
    "    print(f\"  - F1 Score        : {model_test_f1:.4f}\")\n",
    "    print(f\"  - Precision       : {model_test_precison:.4f}\")\n",
    "    print(f\"  - Classification Report:\\n{model_test_classify}\")\n",
    "    print(\"-\" * 40)  # Divider for clarity between models\n",
    "\n"
   ]
  },
  {
   "cell_type": "markdown",
   "metadata": {},
   "source": [
    "# Now as we are focused on Random Forest in this Notebook we will be HyperTuning the RandomForest Model"
   ]
  },
  {
   "cell_type": "code",
   "execution_count": 54,
   "metadata": {},
   "outputs": [],
   "source": [
    "# we will be hyper tuning the model using randomised Search CV \n",
    "params = {\n",
    "    'n_estimators' :  [100,200,500,1000],\n",
    "    'max_depth' :  [ 5, 8, 15, None , 20],\n",
    "    'criterion' : ['gini', 'entropy', 'log_loss'],\n",
    "    'min_samples_split' : [2 , 5, 8, 15],\n",
    "    'max_features' : [5,7,\"auto\" , 8]\n",
    "\n",
    "\n",
    "}"
   ]
  },
  {
   "cell_type": "code",
   "execution_count": 55,
   "metadata": {},
   "outputs": [],
   "source": [
    "# Model Lists for HyperParameter Tuning \n",
    "randomcv_models = [\n",
    "    ('RF' , RandomForestClassifier() , params)\n",
    "]"
   ]
  },
  {
   "cell_type": "code",
   "execution_count": 56,
   "metadata": {},
   "outputs": [
    {
     "data": {
      "text/plain": [
       "[('RF',\n",
       "  RandomForestClassifier(),\n",
       "  {'n_estimators': [100, 200, 500, 1000],\n",
       "   'max_depth': [5, 8, 15, None, 20],\n",
       "   'criterion': ['gini', 'entropy', 'log_loss'],\n",
       "   'min_samples_split': [2, 5, 8, 15],\n",
       "   'max_features': [5, 7, 'auto', 8]})]"
      ]
     },
     "execution_count": 56,
     "metadata": {},
     "output_type": "execute_result"
    }
   ],
   "source": [
    "randomcv_models"
   ]
  },
  {
   "cell_type": "code",
   "execution_count": 57,
   "metadata": {},
   "outputs": [
    {
     "name": "stdout",
     "output_type": "stream",
     "text": [
      "Fitting 3 folds for each of 100 candidates, totalling 300 fits\n"
     ]
    },
    {
     "name": "stderr",
     "output_type": "stream",
     "text": [
      "c:\\ProgramData\\anaconda3\\Lib\\site-packages\\sklearn\\model_selection\\_validation.py:547: FitFailedWarning: \n",
      "87 fits failed out of a total of 300.\n",
      "The score on these train-test partitions for these parameters will be set to nan.\n",
      "If these failures are not expected, you can try to debug them by setting error_score='raise'.\n",
      "\n",
      "Below are more details about the failures:\n",
      "--------------------------------------------------------------------------------\n",
      "87 fits failed with the following error:\n",
      "Traceback (most recent call last):\n",
      "  File \"c:\\ProgramData\\anaconda3\\Lib\\site-packages\\sklearn\\model_selection\\_validation.py\", line 895, in _fit_and_score\n",
      "    estimator.fit(X_train, y_train, **fit_params)\n",
      "  File \"c:\\ProgramData\\anaconda3\\Lib\\site-packages\\sklearn\\base.py\", line 1467, in wrapper\n",
      "    estimator._validate_params()\n",
      "  File \"c:\\ProgramData\\anaconda3\\Lib\\site-packages\\sklearn\\base.py\", line 666, in _validate_params\n",
      "    validate_parameter_constraints(\n",
      "  File \"c:\\ProgramData\\anaconda3\\Lib\\site-packages\\sklearn\\utils\\_param_validation.py\", line 95, in validate_parameter_constraints\n",
      "    raise InvalidParameterError(\n",
      "sklearn.utils._param_validation.InvalidParameterError: The 'max_features' parameter of RandomForestClassifier must be an int in the range [1, inf), a float in the range (0.0, 1.0], a str among {'sqrt', 'log2'} or None. Got 'auto' instead.\n",
      "\n",
      "  warnings.warn(some_fits_failed_message, FitFailedWarning)\n",
      "c:\\ProgramData\\anaconda3\\Lib\\site-packages\\sklearn\\model_selection\\_search.py:1051: UserWarning: One or more of the test scores are non-finite: [       nan        nan        nan        nan 0.88628755        nan\n",
      " 0.83221243 0.87518028 0.85910379 0.88219578 0.86231889        nan\n",
      " 0.87927282        nan        nan 0.83805731        nan        nan\n",
      " 0.89622702 0.89417998 0.86757948        nan 0.87196545 0.88219526\n",
      " 0.87079611 0.89125882 0.88278057 0.83133473        nan 0.85647247\n",
      " 0.88014899 0.88775056 0.89447238 0.8807343         nan 0.88716551\n",
      " 0.837472   0.87751793        nan 0.86641015 0.88424384 0.87985736\n",
      " 0.8707956  0.85998073 0.8880427  0.88979606 0.88278185 0.86582612\n",
      " 0.84858055        nan 0.84098052 0.86348796        nan        nan\n",
      " 0.85355003 0.88687234 0.87021003        nan 0.87956445 0.83776491\n",
      "        nan 0.88511847 0.89008923        nan 0.83250483        nan\n",
      " 0.85676512 0.87810272 0.89388809 0.83250457 0.88862647        nan\n",
      "        nan 0.83805757 0.88745791 0.89242713 0.86553423 0.86436387\n",
      "        nan 0.89096514 0.86085715 0.83338202 0.87254922        nan\n",
      " 0.83893476        nan 0.88804219 0.86699494        nan 0.83338177\n",
      " 0.89476554        nan 0.86319505 0.83922639 0.86202623 0.84010409\n",
      " 0.85647298 0.88482659 0.89184182        nan]\n",
      "  warnings.warn(\n"
     ]
    },
    {
     "name": "stdout",
     "output_type": "stream",
     "text": [
      "--------------Best Params for the Model RF-----\n",
      "{'n_estimators': 1000, 'min_samples_split': 2, 'max_features': 8, 'max_depth': 20, 'criterion': 'entropy'}\n"
     ]
    }
   ],
   "source": [
    "# importing the RandomisedSearchCV \n",
    "from sklearn.model_selection import RandomizedSearchCV\n",
    "model_params = {}\n",
    "for name ,model ,params in randomcv_models :\n",
    "    random = RandomizedSearchCV(estimator=model , param_distributions= params , n_iter= 100 , cv=3 , verbose=2 , n_jobs= 2)\n",
    "    random.fit(X_train , Y_train)\n",
    "    model_params[name] = random.best_params_\n",
    "\n",
    "for model_name in model_params :\n",
    "    print(f\"--------------Best Params for the Model {model_name}-----\")\n",
    "    print(model_params[model_name])"
   ]
  },
  {
   "cell_type": "code",
   "execution_count": 58,
   "metadata": {},
   "outputs": [
    {
     "name": "stdout",
     "output_type": "stream",
     "text": [
      "\n",
      "Training Results:\n",
      "  - Accuracy        : 1.0000\n",
      "  - F1 Score        : 1.0000\n",
      "  - Precision       : 1.0000\n",
      "  - Classification Report:\n",
      "              precision    recall  f1-score   support\n",
      "\n",
      "           0       1.00      1.00      1.00      2775\n",
      "           1       1.00      1.00      1.00       646\n",
      "\n",
      "    accuracy                           1.00      3421\n",
      "   macro avg       1.00      1.00      1.00      3421\n",
      "weighted avg       1.00      1.00      1.00      3421\n",
      "\n",
      "\n",
      "Testing Results:\n",
      "  - Accuracy        : 0.9230\n",
      "  - F1 Score        : 0.7601\n",
      "  - Precision       : 0.9086\n",
      "  - Classification Report:\n",
      "              precision    recall  f1-score   support\n",
      "\n",
      "           0       0.93      0.98      0.95      1193\n",
      "           1       0.91      0.65      0.76       274\n",
      "\n",
      "    accuracy                           0.92      1467\n",
      "   macro avg       0.92      0.82      0.86      1467\n",
      "weighted avg       0.92      0.92      0.92      1467\n",
      "\n",
      "----------------------------------------\n"
     ]
    }
   ],
   "source": [
    "# Now we Use the given Params to HyperTune Our model \n",
    "models = {\n",
    "    'Random Forest' : RandomForestClassifier(n_estimators= 1000 , min_samples_split= 2 , max_features= 8 , max_depth= 20 , criterion='entropy')\n",
    "}\n",
    "\n",
    "for i in range (len(list(models))) :\n",
    "    model = list(models.values())[i]\n",
    "    model.fit(X_train ,Y_train) # traning the model \n",
    "\n",
    "    # make Predections\n",
    "    Y_preds_train = model.predict(X_train) \n",
    "    Y_preds = model.predict(X_test)\n",
    "\n",
    "    # Testing the performance on the train dataset \n",
    "    model_train_accuracy = accuracy_score(Y_train , Y_preds_train)\n",
    "    model_train_classify = classification_report(Y_train , Y_preds_train)\n",
    "    model_train_f1 = f1_score(Y_train , Y_preds_train)\n",
    "    model_train_precison = precision_score(Y_train , Y_preds_train)\n",
    "\n",
    "\n",
    "    # testing the performance on the test dataset \n",
    "    model_test_accuracy = accuracy_score(Y_test , Y_preds)\n",
    "    model_test_classify = classification_report(Y_test , Y_preds)\n",
    "    model_test_f1 = f1_score(Y_test , Y_preds)\n",
    "    model_test_precison = precision_score(Y_test , Y_preds)\n",
    "\n",
    "    print(f\"\\nTraining Results:\")\n",
    "    print(f\"  - Accuracy        : {model_train_accuracy:.4f}\")\n",
    "    print(f\"  - F1 Score        : {model_train_f1:.4f}\")\n",
    "    print(f\"  - Precision       : {model_train_precison:.4f}\")\n",
    "    print(f\"  - Classification Report:\\n{model_train_classify}\")\n",
    "    \n",
    "    print(f\"\\nTesting Results:\")\n",
    "    print(f\"  - Accuracy        : {model_test_accuracy:.4f}\")\n",
    "    print(f\"  - F1 Score        : {model_test_f1:.4f}\")\n",
    "    print(f\"  - Precision       : {model_test_precison:.4f}\")\n",
    "    print(f\"  - Classification Report:\\n{model_test_classify}\")\n",
    "    print(\"-\" * 40)  # Divider for clarity between models\n"
   ]
  },
  {
   "cell_type": "markdown",
   "metadata": {},
   "source": [
    "# <---------End of NoteBook -------->"
   ]
  },
  {
   "cell_type": "code",
   "execution_count": null,
   "metadata": {},
   "outputs": [],
   "source": []
  }
 ],
 "metadata": {
  "kernelspec": {
   "display_name": "base",
   "language": "python",
   "name": "python3"
  },
  "language_info": {
   "codemirror_mode": {
    "name": "ipython",
    "version": 3
   },
   "file_extension": ".py",
   "mimetype": "text/x-python",
   "name": "python",
   "nbconvert_exporter": "python",
   "pygments_lexer": "ipython3",
   "version": "3.12.4"
  }
 },
 "nbformat": 4,
 "nbformat_minor": 2
}
